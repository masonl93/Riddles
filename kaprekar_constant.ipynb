{
 "cells": [
  {
   "cell_type": "markdown",
   "metadata": {},
   "source": [
    "https://www.tiktok.com/@mathletters/video/7091783499430153518"
   ]
  },
  {
   "cell_type": "code",
   "execution_count": 1,
   "metadata": {},
   "outputs": [],
   "source": [
    "import random"
   ]
  },
  {
   "cell_type": "code",
   "execution_count": 34,
   "metadata": {},
   "outputs": [],
   "source": [
    "def kaprekar_routine(val):\n",
    "    big = int(\"\".join(sorted(str(val), reverse=True)))\n",
    "    small = int(\"\".join(sorted(str(val))))\n",
    "    return big-small"
   ]
  },
  {
   "cell_type": "code",
   "execution_count": 35,
   "metadata": {},
   "outputs": [],
   "source": [
    "kaprekar = 6174\n",
    "sims = 10000\n",
    "steps = []\n",
    "\n",
    "for i in range(0, sims):\n",
    "\n",
    "    # Does not account for numbers with leading zeros\n",
    "    while True:\n",
    "        n = random.randint(1000,9999)\n",
    "        str_n = str(n)\n",
    "        if str_n[0] == str_n[1] and str_n[1] == str_n[2] and str_n[2] == str_n[3]:\n",
    "            continue\n",
    "        break\n",
    "    \n",
    "    cnt = 0\n",
    "    while True:\n",
    "        cnt += 1\n",
    "        n = kaprekar_routine(n)\n",
    "        if cnt > 10:\n",
    "            # TODO: this is needed since we dont handle leading zeros\n",
    "            break\n",
    "        if n == kaprekar:\n",
    "            steps.append(cnt)\n",
    "            break"
   ]
  },
  {
   "cell_type": "code",
   "execution_count": 36,
   "metadata": {},
   "outputs": [
    {
     "data": {
      "text/plain": [
       "7"
      ]
     },
     "execution_count": 36,
     "metadata": {},
     "output_type": "execute_result"
    }
   ],
   "source": [
    "max(steps)"
   ]
  },
  {
   "cell_type": "code",
   "execution_count": 37,
   "metadata": {},
   "outputs": [
    {
     "data": {
      "text/plain": [
       "4.668043938325103"
      ]
     },
     "execution_count": 37,
     "metadata": {},
     "output_type": "execute_result"
    }
   ],
   "source": [
    "sum(steps)/len(steps)"
   ]
  },
  {
   "cell_type": "code",
   "execution_count": null,
   "metadata": {},
   "outputs": [],
   "source": []
  }
 ],
 "metadata": {
  "kernelspec": {
   "display_name": "Python 3",
   "language": "python",
   "name": "python3"
  },
  "language_info": {
   "codemirror_mode": {
    "name": "ipython",
    "version": 3
   },
   "file_extension": ".py",
   "mimetype": "text/x-python",
   "name": "python",
   "nbconvert_exporter": "python",
   "pygments_lexer": "ipython3",
   "version": "3.8.17"
  }
 },
 "nbformat": 4,
 "nbformat_minor": 4
}
