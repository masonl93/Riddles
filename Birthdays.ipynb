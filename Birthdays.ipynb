{
 "cells": [
  {
   "cell_type": "markdown",
   "metadata": {},
   "source": [
    "https://twitter.com/Spfannenschmidt/status/1492865946515558404  \n",
    "\"My mother had 11 kids  \n",
    "Her mother had 11 kids  \n",
    "What are the odds that 2 of my mother’s kids share a birthday with a sibling of hers?\"\n",
    "\n",
    "<img src=\"img/birthdays.png\"></img>"
   ]
  },
  {
   "cell_type": "code",
   "execution_count": 3,
   "metadata": {},
   "outputs": [],
   "source": [
    "import random"
   ]
  },
  {
   "cell_type": "code",
   "execution_count": 33,
   "metadata": {},
   "outputs": [],
   "source": [
    "cnt = 0\n",
    "sims = 100000\n",
    "for i in range(0, sims):\n",
    "    bdays = []\n",
    "    sibling_bdays = []\n",
    "    for i in range(0, 11):\n",
    "        bdays.append(random.randrange(1,366))\n",
    "    for i in range(0, 10):\n",
    "        sibling_bdays.append(random.randrange(1,366))\n",
    "   \n",
    "    for b in bdays:\n",
    "        if b in sibling_bdays and bdays.count(b) == 2:\n",
    "            cnt += 1\n",
    "            break"
   ]
  },
  {
   "cell_type": "code",
   "execution_count": 34,
   "metadata": {},
   "outputs": [
    {
     "data": {
      "text/plain": [
       "0.00407"
      ]
     },
     "execution_count": 34,
     "metadata": {},
     "output_type": "execute_result"
    }
   ],
   "source": [
    "cnt/sims"
   ]
  },
  {
   "cell_type": "code",
   "execution_count": null,
   "metadata": {},
   "outputs": [],
   "source": []
  }
 ],
 "metadata": {
  "kernelspec": {
   "display_name": "Python 3",
   "language": "python",
   "name": "python3"
  },
  "language_info": {
   "codemirror_mode": {
    "name": "ipython",
    "version": 3
   },
   "file_extension": ".py",
   "mimetype": "text/x-python",
   "name": "python",
   "nbconvert_exporter": "python",
   "pygments_lexer": "ipython3",
   "version": "3.8.17"
  }
 },
 "nbformat": 4,
 "nbformat_minor": 4
}
