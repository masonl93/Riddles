{
 "cells": [
  {
   "cell_type": "markdown",
   "metadata": {},
   "source": [
    "https://twitter.com/nntaleb/status/1290413193068777478  \n",
    "\n",
    "<img src=\"img/coin_run.png\"></img>"
   ]
  },
  {
   "cell_type": "code",
   "execution_count": 52,
   "metadata": {},
   "outputs": [],
   "source": [
    "import random\n",
    "import matplotlib.pyplot as plt\n",
    "import numpy as np\n",
    "from scipy.stats import kurtosis, skew"
   ]
  },
  {
   "cell_type": "code",
   "execution_count": 34,
   "metadata": {},
   "outputs": [],
   "source": [
    "vals = []\n",
    "sims = 10000\n",
    "\n",
    "for sim in range(0, sims):\n",
    "    longest = 1\n",
    "    curr = 1\n",
    "    prev = None\n",
    "    for i in range(0, 250):\n",
    "        r = random.randint(0,1)\n",
    "        if r == prev:\n",
    "            curr += 1\n",
    "        else:\n",
    "            if curr > longest:\n",
    "                longest = curr\n",
    "            curr = 1\n",
    "        prev = r\n",
    "    vals.append(longest)"
   ]
  },
  {
   "cell_type": "code",
   "execution_count": 35,
   "metadata": {},
   "outputs": [
    {
     "data": {
      "text/plain": [
       "8.2994"
      ]
     },
     "execution_count": 35,
     "metadata": {},
     "output_type": "execute_result"
    }
   ],
   "source": [
    "sum(vals)/len(vals)"
   ]
  },
  {
   "cell_type": "markdown",
   "metadata": {},
   "source": [
    "\"What is the distribution of the number of runs? (a run is an uninterrupted succession of H or T).\"  \n",
    "- https://twitter.com/nntaleb/status/1292184262431645697"
   ]
  },
  {
   "cell_type": "code",
   "execution_count": 56,
   "metadata": {},
   "outputs": [],
   "source": [
    "vals = []\n",
    "sims = 10000\n",
    "\n",
    "for sim in range(0, sims):\n",
    "    curr = 1\n",
    "    prev = None\n",
    "    run_cnt = 0\n",
    "    for i in range(0, 250):\n",
    "        r = random.randint(0,1)\n",
    "        if r == prev:\n",
    "            curr += 1\n",
    "        else:\n",
    "            run_cnt += 1\n",
    "            curr = 1\n",
    "        prev = r\n",
    "    vals.append(run_cnt)"
   ]
  },
  {
   "cell_type": "code",
   "execution_count": 57,
   "metadata": {},
   "outputs": [
    {
     "data": {
      "text/plain": [
       "(array([4.700e+01, 2.550e+02, 9.900e+02, 2.296e+03, 2.938e+03, 2.215e+03,\n",
       "        9.680e+02, 2.510e+02, 3.800e+01, 2.000e+00]),\n",
       " array([ 98. , 104.1, 110.2, 116.3, 122.4, 128.5, 134.6, 140.7, 146.8,\n",
       "        152.9, 159. ]),\n",
       " <BarContainer object of 10 artists>)"
      ]
     },
     "execution_count": 57,
     "metadata": {},
     "output_type": "execute_result"
    },
    {
     "data": {
      "image/png": "[encoded data removed]",
      "text/plain": [
       "<Figure size 432x288 with 1 Axes>"
      ]
     },
     "metadata": {
      "needs_background": "light"
     },
     "output_type": "display_data"
    }
   ],
   "source": [
    "plt.hist(vals)"
   ]
  },
  {
   "cell_type": "code",
   "execution_count": 58,
   "metadata": {},
   "outputs": [
    {
     "data": {
      "text/plain": [
       "(125.3993, 7.935833888760525, 2.97459549193945, 0.003192086419996631)"
      ]
     },
     "execution_count": 58,
     "metadata": {},
     "output_type": "execute_result"
    }
   ],
   "source": [
    "np.average(vals), np.std(vals), kurtosis(vals, fisher=False), skew(vals)"
   ]
  },
  {
   "cell_type": "code",
   "execution_count": null,
   "metadata": {},
   "outputs": [],
   "source": []
  }
 ],
 "metadata": {
  "kernelspec": {
   "display_name": "Python 3",
   "language": "python",
   "name": "python3"
  },
  "language_info": {
   "codemirror_mode": {
    "name": "ipython",
    "version": 3
   },
   "file_extension": ".py",
   "mimetype": "text/x-python",
   "name": "python",
   "nbconvert_exporter": "python",
   "pygments_lexer": "ipython3",
   "version": "3.8.17"
  }
 },
 "nbformat": 4,
 "nbformat_minor": 4
}
