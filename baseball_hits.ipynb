{
 "cells": [
  {
   "cell_type": "markdown",
   "id": "41453050-ee59-4921-88df-c2dfae6c715e",
   "metadata": {},
   "source": [
    "https://twitter.com/PhDemetri/status/1673917856055001090  \n",
    "https://twitter.com/octonion/status/1674272824536465410\n",
    "\n",
    "<img src=\"img/baseball_hits.png\"></img>"
   ]
  },
  {
   "cell_type": "code",
   "execution_count": 10,
   "id": "7f83ba60-a7bc-4dd1-bf50-bcba5ce95c2f",
   "metadata": {},
   "outputs": [],
   "source": [
    "import math\n",
    "import random\n",
    "\n",
    "import scipy.stats as stats"
   ]
  },
  {
   "cell_type": "markdown",
   "id": "772f59fe-f198-4737-bc31-627cd4ced453",
   "metadata": {},
   "source": [
    "# Simulation"
   ]
  },
  {
   "cell_type": "code",
   "execution_count": 2,
   "id": "d3c8cf76-31c2-480c-b1c1-cf6615132009",
   "metadata": {},
   "outputs": [],
   "source": [
    "games = 15\n",
    "at_bats = 3\n",
    "a_avg = 0.275\n",
    "b_avg = 0.3\n",
    "\n",
    "sims = 100_000\n",
    "cnt = 0\n",
    "\n",
    "for sim in range(0, sims):\n",
    "    a_hits = 0\n",
    "    b_hits = 0\n",
    "    for i in range(0, at_bats * games):\n",
    "        a_hits += random.choices([0, 1], weights=[1 - a_avg, a_avg])[0]\n",
    "        b_hits += random.choices([0, 1], weights=[1 - b_avg, b_avg])[0]\n",
    "    if a_hits > b_hits:\n",
    "        cnt += 1"
   ]
  },
  {
   "cell_type": "code",
   "execution_count": 3,
   "id": "fdb9572a-b10f-4cc5-b293-ba6ae1b6707b",
   "metadata": {},
   "outputs": [
    {
     "data": {
      "text/plain": [
       "0.35241"
      ]
     },
     "execution_count": 3,
     "metadata": {},
     "output_type": "execute_result"
    }
   ],
   "source": [
    "cnt/sims"
   ]
  },
  {
   "cell_type": "markdown",
   "id": "996309ef-0498-4f0f-a01f-89f227d83139",
   "metadata": {},
   "source": [
    "# Normal Approximation"
   ]
  },
  {
   "cell_type": "code",
   "execution_count": 4,
   "id": "5cbbd172-59d2-45cb-a0d8-6aa3b7c12f34",
   "metadata": {},
   "outputs": [
    {
     "name": "stdout",
     "output_type": "stream",
     "text": [
      "0.39661784955768864\n"
     ]
    }
   ],
   "source": [
    "n = 45  # Number of trials\n",
    "\n",
    "p_a = 0.275  # Probability of event A\n",
    "mean_a = n * p_a\n",
    "std_dev_a = math.sqrt(n * p_a * (1 - p_a))\n",
    "\n",
    "p_b = 0.3  # Probability of event B\n",
    "mean_b = n * p_b\n",
    "std_dev_b = math.sqrt(n * p_b * (1 - p_b))\n",
    "\n",
    "# Calculate the z-score\n",
    "mean_diff = mean_a - mean_b\n",
    "std_dev_diff = math.sqrt(std_dev_a**2 + std_dev_b**2)\n",
    "z_score = (0 - mean_diff) / std_dev_diff\n",
    "\n",
    "# Calculate the probability using the CDF\n",
    "probability = 1 - 0.5 * (1 + math.erf(z_score / math.sqrt(2)))\n",
    "\n",
    "print(probability)"
   ]
  },
  {
   "cell_type": "markdown",
   "id": "74cde6a0-d980-45a2-a697-028cca57fd10",
   "metadata": {},
   "source": [
    "### Continuity Correction"
   ]
  },
  {
   "cell_type": "code",
   "execution_count": 5,
   "id": "3b74fb64-3051-4ab8-b1c5-36c11566a1a5",
   "metadata": {},
   "outputs": [
    {
     "name": "stdout",
     "output_type": "stream",
     "text": [
      "0.3524905704515038\n"
     ]
    }
   ],
   "source": [
    "n = 45  # Number of trials\n",
    "\n",
    "p_a = 0.275  # Probability of event A\n",
    "mean_a = n * p_a\n",
    "std_dev_a = math.sqrt(n * p_a * (1 - p_a))\n",
    "\n",
    "p_b = 0.3  # Probability of event B\n",
    "mean_b = n * p_b\n",
    "std_dev_b = math.sqrt(n * p_b * (1 - p_b))\n",
    "\n",
    "# Apply continuity correction\n",
    "mean_diff = mean_a - mean_b - 0.5\n",
    "std_dev_diff = math.sqrt(std_dev_a**2 + std_dev_b**2)\n",
    "\n",
    "# Calculate the z-score\n",
    "z_score = (0 - mean_diff) / std_dev_diff\n",
    "\n",
    "# Calculate the probability using the CDF\n",
    "probability = 1 - 0.5 * (1 + math.erf(z_score / math.sqrt(2)))\n",
    "\n",
    "print(probability)"
   ]
  },
  {
   "cell_type": "markdown",
   "id": "46071ae8-791f-4d44-b551-ad8ffc267180",
   "metadata": {},
   "source": [
    "# Padres Version\n",
    "Assumes Padres preseson win total odds of 93.5 is their true average outcome. Calculate the probability that they have their current record or worse at this point in the season, using normal approximation (7/2/23 after 83 games: 38-45)  \n",
    "\n",
    "## Simulation"
   ]
  },
  {
   "cell_type": "code",
   "execution_count": 6,
   "id": "b2fee90a-b2da-4e9a-b3fc-b0b6272914d8",
   "metadata": {},
   "outputs": [],
   "source": [
    "win_rate = 93.5/162\n",
    "games = 83\n",
    "curr_wins = 38\n",
    "\n",
    "sims = 10_000\n",
    "cnt = 0\n",
    "\n",
    "for sim in range(0, sims):\n",
    "    wins = 0\n",
    "    for i in range(0, games):\n",
    "        wins += random.choices([0, 1], weights=[1 - win_rate, win_rate])[0]\n",
    "    if wins <= curr_wins:\n",
    "        cnt += 1"
   ]
  },
  {
   "cell_type": "code",
   "execution_count": 7,
   "id": "a5933399-f4e6-458d-b3d2-e0066bec3da5",
   "metadata": {},
   "outputs": [
    {
     "data": {
      "text/plain": [
       "0.0183"
      ]
     },
     "execution_count": 7,
     "metadata": {},
     "output_type": "execute_result"
    }
   ],
   "source": [
    "cnt/sims"
   ]
  },
  {
   "cell_type": "markdown",
   "id": "82ed95f6-783f-417f-b93c-cadb5a9c0b96",
   "metadata": {},
   "source": [
    "## Normal Approximation"
   ]
  },
  {
   "cell_type": "code",
   "execution_count": 9,
   "id": "82728988-0273-44db-931d-7f8a4079079f",
   "metadata": {},
   "outputs": [
    {
     "name": "stdout",
     "output_type": "stream",
     "text": [
      "47.90432098765432 4.500648778783448\n"
     ]
    }
   ],
   "source": [
    "mean = games * win_rate\n",
    "std_dev = math.sqrt(games * win_rate * (1 - win_rate))\n",
    "print(mean, std_dev)"
   ]
  },
  {
   "cell_type": "code",
   "execution_count": 11,
   "id": "eb4c6f90-d7b2-4145-b22b-89dcd52a2c48",
   "metadata": {},
   "outputs": [
    {
     "name": "stdout",
     "output_type": "stream",
     "text": [
      "0.013880655389229831\n"
     ]
    }
   ],
   "source": [
    "z_score = (curr_wins - mean) / std_dev\n",
    "probability = stats.norm.cdf(z_score)\n",
    "print(probability)"
   ]
  },
  {
   "cell_type": "markdown",
   "id": "4b6133cf-3cb2-4274-b1ff-c5a55c3dd695",
   "metadata": {},
   "source": [
    "### Continuity Correction"
   ]
  },
  {
   "cell_type": "code",
   "execution_count": 13,
   "id": "56126a4e-76af-40be-9ae8-84de80dc1a38",
   "metadata": {},
   "outputs": [
    {
     "name": "stdout",
     "output_type": "stream",
     "text": [
      "0.018329217580533276\n"
     ]
    }
   ],
   "source": [
    "# Apply continuity correction\n",
    "x_adj = curr_wins + 0.5\n",
    "\n",
    "z_score = (x_adj - mean) / std_dev\n",
    "\n",
    "probability = stats.norm.cdf(z_score)\n",
    "\n",
    "print(probability)"
   ]
  },
  {
   "cell_type": "code",
   "execution_count": null,
   "id": "63c3b610-fc5e-44df-b93f-6b538f91b3b7",
   "metadata": {},
   "outputs": [],
   "source": []
  }
 ],
 "metadata": {
  "kernelspec": {
   "display_name": "Python 3",
   "language": "python",
   "name": "python3"
  },
  "language_info": {
   "codemirror_mode": {
    "name": "ipython",
    "version": 3
   },
   "file_extension": ".py",
   "mimetype": "text/x-python",
   "name": "python",
   "nbconvert_exporter": "python",
   "pygments_lexer": "ipython3",
   "version": "3.8.17"
  }
 },
 "nbformat": 4,
 "nbformat_minor": 5
}
