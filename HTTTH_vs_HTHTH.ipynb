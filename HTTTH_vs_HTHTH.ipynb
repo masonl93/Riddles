{
 "cells": [
  {
   "cell_type": "markdown",
   "metadata": {},
   "source": [
    "https://x.com/littmath/status/1786115416231641335  \n",
    "\n",
    "<img src=\"img/HTTTH_vs_HTHTH.png\"></img>"
   ]
  },
  {
   "cell_type": "code",
   "execution_count": 6,
   "metadata": {},
   "outputs": [],
   "source": [
    "import random\n",
    "import numpy as np"
   ]
  },
  {
   "cell_type": "code",
   "execution_count": 47,
   "metadata": {},
   "outputs": [],
   "source": [
    "def flip_coin():\n",
    "    return 'H' if random.random() < 0.5 else 'T'\n",
    "\n",
    "def monte_carlo_simulation(trials):\n",
    "    pattern1 = \"HTTTH\"\n",
    "    pattern2 = \"HTHTH\"\n",
    "    pattern1_flips = []\n",
    "    pattern2_flips = []\n",
    "\n",
    "    for _ in range(trials):\n",
    "        flips = \"\"\n",
    "        flip_count = 0\n",
    "        while True:\n",
    "            flips += flip_coin()\n",
    "            flip_count += 1\n",
    "            if len(flips) >= 5:\n",
    "                if flips[-5:] == pattern1:\n",
    "                    pattern1_flips.append(flip_count)\n",
    "                    break\n",
    "                elif flips[-5:] == pattern2:\n",
    "                    pattern2_flips.append(flip_count)\n",
    "                    break\n",
    "\n",
    "    return pattern1_flips, pattern2_flips\n"
   ]
  },
  {
   "cell_type": "code",
   "execution_count": 50,
   "metadata": {},
   "outputs": [
    {
     "name": "stdout",
     "output_type": "stream",
     "text": [
      "Pattern 'HTTTH' occurred 55620 times with a mean of 19.90 flips.\n",
      "Pattern 'HTHTH' occurred 44380 times with a mean of 19.45 flips.\n"
     ]
    }
   ],
   "source": [
    "trials = 100_000\n",
    "pattern1_flips, pattern2_flips = monte_carlo_simulation(trials)\n",
    "\n",
    "mean_flips_pattern1 = sum(pattern1_flips) / len(pattern1_flips) if pattern1_flips else 0\n",
    "mean_flips_pattern2 = sum(pattern2_flips) / len(pattern2_flips) if pattern2_flips else 0\n",
    "\n",
    "pattern1_count = len(pattern1_flips)\n",
    "pattern2_count = len(pattern2_flips)\n",
    "\n",
    "print(f\"Pattern 'HTTTH' occurred {pattern1_count} times with a mean of {mean_flips_pattern1:.2f} flips.\")\n",
    "print(f\"Pattern 'HTHTH' occurred {pattern2_count} times with a mean of {mean_flips_pattern2:.2f} flips.\")"
   ]
  },
  {
   "cell_type": "markdown",
   "metadata": {},
   "source": [
    "# Markov Chain"
   ]
  },
  {
   "cell_type": "code",
   "execution_count": 45,
   "metadata": {},
   "outputs": [
    {
     "name": "stdout",
     "output_type": "stream",
     "text": [
      "Transition Matrix:\n",
      "[[0.  0.5 0.5 0.  0.  0.  0.  0.  0.  0. ]\n",
      " [0.  0.5 0.  0.5 0.  0.  0.  0.  0.  0. ]\n",
      " [0.  0.5 0.5 0.  0.  0.  0.  0.  0.  0. ]\n",
      " [0.  0.  0.  0.  0.5 0.5 0.  0.  0.  0. ]\n",
      " [0.  0.5 0.  0.  0.  0.  0.5 0.  0.  0. ]\n",
      " [0.  0.5 0.  0.  0.  0.  0.  0.5 0.  0. ]\n",
      " [0.  0.  0.  0.  0.  0.5 0.  0.  0.5 0. ]\n",
      " [0.  0.  0.5 0.  0.  0.  0.  0.  0.  0.5]\n",
      " [0.  0.  0.  0.  0.  0.  0.  0.  1.  0. ]\n",
      " [0.  0.  0.  0.  0.  0.  0.  0.  0.  1. ]]\n",
      "\n",
      "Steady-state probability for 'HTTTH': 0.5555555555555556\n",
      "Steady-state probability for 'HTHTH': 0.4444444444444445\n",
      "Ratio (HTTTH/HTHTH): 1.25\n"
     ]
    }
   ],
   "source": [
    "states = [\"\", \"H\", \"T\", \"HT\", \"HTH\", \"HTT\", \"HTHT\", \"HTTT\", \"HTHTH\", \"HTTTH\"]\n",
    "\n",
    "# Create the transition matrix\n",
    "transition_matrix = np.zeros((len(states), len(states)))\n",
    "\n",
    "# Fill the transition matrix\n",
    "for i, state in enumerate(states):\n",
    "    if state == \"HTTTH\" or state == \"HTHTH\":\n",
    "        transition_matrix[i][i] = 1.0\n",
    "    else:\n",
    "        next_state_H = (state + \"H\")[-5:]\n",
    "        next_state_T = (state + \"T\")[-5:]\n",
    "        if next_state_H in states:\n",
    "            transition_matrix[i][states.index(next_state_H)] = 0.5\n",
    "        else:\n",
    "            # go back to starting 'H' state\n",
    "            transition_matrix[i][1] = 0.5\n",
    "        if next_state_T in states:\n",
    "            transition_matrix[i][states.index(next_state_T)] = 0.5\n",
    "        else:\n",
    "            # go back to starting 'T' state\n",
    "            transition_matrix[i][2] = 0.5\n",
    "\n",
    "# Manual update of getting 'T' with HTHT, and going back to HTT\n",
    "transition_matrix[6][2] = 0\n",
    "transition_matrix[6][5] = .5\n",
    "\n",
    "# Raise the matrix to a large power to find the steady-state probabilities\n",
    "n = 1000 \n",
    "steady_state_matrix = np.linalg.matrix_power(transition_matrix, n)\n",
    "\n",
    "# The steady-state probabilities are in the first row\n",
    "steady_state_probabilities = steady_state_matrix[0]\n",
    "\n",
    "# Extract the probabilities for the patterns\n",
    "pattern1_prob = steady_state_probabilities[states.index(\"HTTTH\")]\n",
    "pattern2_prob = steady_state_probabilities[states.index(\"HTHTH\")]\n",
    "\n",
    "# Print the transition matrix\n",
    "print(\"Transition Matrix:\")\n",
    "print(transition_matrix)\n",
    "print()\n",
    "\n",
    "print(f\"Steady-state probability for 'HTTTH': {pattern1_prob}\")\n",
    "print(f\"Steady-state probability for 'HTHTH': {pattern2_prob}\")\n",
    "print(f\"Ratio (HTTTH/HTHTH): {pattern1_prob / pattern2_prob if pattern2_prob != 0 else 'undefined'}\")"
   ]
  },
  {
   "cell_type": "code",
   "execution_count": null,
   "metadata": {},
   "outputs": [],
   "source": []
  }
 ],
 "metadata": {
  "kernelspec": {
   "display_name": ".venv",
   "language": "python",
   "name": "python3"
  },
  "language_info": {
   "codemirror_mode": {
    "name": "ipython",
    "version": 3
   },
   "file_extension": ".py",
   "mimetype": "text/x-python",
   "name": "python",
   "nbconvert_exporter": "python",
   "pygments_lexer": "ipython3",
   "version": "3.12.5"
  }
 },
 "nbformat": 4,
 "nbformat_minor": 2
}
