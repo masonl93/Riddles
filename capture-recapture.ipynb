{
 "cells": [
  {
   "cell_type": "markdown",
   "id": "e004a07e-bdc8-4e46-b423-9468aa1f49a4",
   "metadata": {},
   "source": [
    "https://twitter.com/octonion/status/1677180241293312000  \n",
    "https://twitter.com/octonion/status/1677349732014751745  \n",
    "\n",
    "\n",
    "<img src=\"img/capture.png\"></img>"
   ]
  },
  {
   "cell_type": "code",
   "execution_count": 35,
   "id": "8af4efca-8ceb-404c-80a0-826563cb9d16",
   "metadata": {},
   "outputs": [],
   "source": [
    "import math\n",
    "import random\n",
    "\n",
    "import numpy as np\n",
    "import seaborn as sns\n",
    "from scipy.stats import hypergeom"
   ]
  },
  {
   "cell_type": "code",
   "execution_count": 11,
   "id": "79ed7a47-15f7-4e76-a50b-6aef7d239460",
   "metadata": {},
   "outputs": [],
   "source": [
    "init_tag_bass = 70\n",
    "init_tag_trout = 30\n",
    "\n",
    "tag_bass = 15\n",
    "untag_bass = 60\n",
    "tag_trout = 5\n",
    "untag_trout = 20"
   ]
  },
  {
   "cell_type": "code",
   "execution_count": 12,
   "id": "5166612e-c121-46df-9e9c-b39e8c1b0107",
   "metadata": {},
   "outputs": [
    {
     "data": {
      "text/plain": [
       "0.2"
      ]
     },
     "execution_count": 12,
     "metadata": {},
     "output_type": "execute_result"
    }
   ],
   "source": [
    "(tag_bass + tag_trout) / 100"
   ]
  },
  {
   "cell_type": "markdown",
   "id": "e5d92b9d-8a21-435d-9dfb-88ecdb4fa39e",
   "metadata": {},
   "source": [
    "$\\frac{20}{100} = \\frac{100}{x} $, x = total fish"
   ]
  },
  {
   "cell_type": "code",
   "execution_count": 13,
   "id": "74920cf1-54a1-4206-80e0-42df8df10002",
   "metadata": {},
   "outputs": [
    {
     "name": "stdout",
     "output_type": "stream",
     "text": [
      "500.0\n"
     ]
    }
   ],
   "source": [
    "total_fish = 100 * 100 / 20\n",
    "print(total_fish)"
   ]
  },
  {
   "cell_type": "code",
   "execution_count": 14,
   "id": "1ffe91d0-3e28-4a20-9f2b-f2e65eb6381b",
   "metadata": {},
   "outputs": [
    {
     "name": "stdout",
     "output_type": "stream",
     "text": [
      "0.725\n"
     ]
    }
   ],
   "source": [
    "bass_pct = (init_tag_bass + tag_bass + untag_bass) / 200\n",
    "print(bass_pct)"
   ]
  },
  {
   "cell_type": "code",
   "execution_count": 15,
   "id": "90135c95-0015-4ca0-acce-717c0c636df3",
   "metadata": {},
   "outputs": [
    {
     "name": "stdout",
     "output_type": "stream",
     "text": [
      "Est. total bass in the lake: 362.5\n",
      "Est. total trout in the lake: 137.5\n"
     ]
    }
   ],
   "source": [
    "print(\"Est. total bass in the lake: {}\".format(total_fish * bass_pct))\n",
    "print(\"Est. total trout in the lake: {}\".format(total_fish * (1 - bass_pct)))"
   ]
  },
  {
   "cell_type": "markdown",
   "id": "6ee94774-aa90-4f22-a7b8-8439012d96f8",
   "metadata": {},
   "source": [
    "This is the \"Lincoln–Petersen estimator\"  \n",
    "https://en.wikipedia.org/wiki/Mark_and_recapture#Lincoln%E2%80%93Petersen_estimator  "
   ]
  },
  {
   "cell_type": "markdown",
   "id": "bc3699c2-557d-48c7-9f00-ff0d4a0487a3",
   "metadata": {},
   "source": [
    "### Chris Long solution\n",
    "https://twitter.com/octonion/status/1679032235549155330"
   ]
  },
  {
   "cell_type": "code",
   "execution_count": 16,
   "id": "3890639b-d2b1-4f07-805f-729fb3677505",
   "metadata": {},
   "outputs": [
    {
     "name": "stdout",
     "output_type": "stream",
     "text": [
      "Est. total bass in the lake: 280.0\n",
      "Est. total trout in the lake: 120.0\n"
     ]
    }
   ],
   "source": [
    "b = init_tag_bass * untag_bass / tag_bass\n",
    "t = init_tag_trout * untag_trout / tag_trout\n",
    "print(\"Est. total bass in the lake: {}\".format(b))\n",
    "print(\"Est. total trout in the lake: {}\".format(t))"
   ]
  },
  {
   "cell_type": "markdown",
   "id": "d13a7e36-3301-4866-87fd-acc239182daa",
   "metadata": {},
   "source": [
    "https://twitter.com/octonion/status/1677340891923488768  \n",
    "https://twitter.com/octonion/status/1678181931731542026  \n",
    "https://twitter.com/octonion/status/1678658766646943746  \n",
    "https://twitter.com/octonion/status/1678660284066459650  \n",
    "https://twitter.com/octonion/status/1678662340407902209  \n",
    "\n",
    "\"For a study 24 fish are caught, tagged, and released back into a large pond containing fish. A few days later, 19 fish are caught from the pond and 3 have tags. Estimate the number of fish in the pond.  "
   ]
  },
  {
   "cell_type": "code",
   "execution_count": 17,
   "id": "2b3179d5-68c4-4f14-8c45-64b75a47ca74",
   "metadata": {},
   "outputs": [],
   "source": [
    "n = 24\n",
    "K = 19\n",
    "k = 3"
   ]
  },
  {
   "cell_type": "markdown",
   "id": "7c226dee-746c-4556-8748-d8c60c111bf3",
   "metadata": {},
   "source": [
    "### Lincoln–Petersen\n",
    "$ N = \\frac{nK}{k} $"
   ]
  },
  {
   "cell_type": "code",
   "execution_count": 18,
   "id": "df181390-1a67-4ad0-b40e-f1768090efcf",
   "metadata": {},
   "outputs": [
    {
     "name": "stdout",
     "output_type": "stream",
     "text": [
      "152.0\n"
     ]
    }
   ],
   "source": [
    "N_est = n * K / k\n",
    "print(N_est)"
   ]
  },
  {
   "cell_type": "markdown",
   "id": "55953ff6-df1b-4c9f-a643-078c6aeb8341",
   "metadata": {},
   "source": [
    "### Chapman \n",
    "$ N = \\frac{(n+1)(K+1)}{k+1} - 1  $"
   ]
  },
  {
   "cell_type": "code",
   "execution_count": 19,
   "id": "3ffcf0a6-79ef-4714-9435-523b841669d8",
   "metadata": {},
   "outputs": [
    {
     "name": "stdout",
     "output_type": "stream",
     "text": [
      "124.0\n"
     ]
    }
   ],
   "source": [
    "N_est_chapman = ((n + 1) * (K + 1)) / (k + 1) - 1\n",
    "print(N_est_chapman)"
   ]
  },
  {
   "cell_type": "markdown",
   "id": "3906efdc-d285-4c13-972e-8f38e1c622ba",
   "metadata": {},
   "source": [
    "### Bayesian \n",
    "$ N \\approx \\mu \\pm \\sqrt{\\mu\\epsilon} $  \n",
    "$ \\mu = \\frac{(n-1)(K-1)}{k-2} $  \n",
    "$ \\epsilon = \\frac{(n-k+1)(K-k+1)}{(k-2)(k-3)} $"
   ]
  },
  {
   "cell_type": "code",
   "execution_count": 20,
   "id": "9cb4dc72-6707-40d8-94bd-5e4acd2abb0a",
   "metadata": {},
   "outputs": [],
   "source": [
    "# mean = ((n-1)*(K-1))/(k-2)\n",
    "# std_dev = ((n-k+1)*(K-k+1))/((k-2)*(k-3))\n",
    "# print(mean, std_dev)\n",
    "\n",
    "# Can't use - need k > 3 for std_dev calc"
   ]
  },
  {
   "cell_type": "code",
   "execution_count": 21,
   "id": "5a6d81f6-6cd7-4ada-bb68-73a804c6afe7",
   "metadata": {},
   "outputs": [],
   "source": [
    "# TODO: calculate and understand Confidence interval"
   ]
  },
  {
   "cell_type": "markdown",
   "id": "44e2c1ce-469d-46fb-af52-d9bf255f4a2e",
   "metadata": {},
   "source": [
    "## Simulation"
   ]
  },
  {
   "cell_type": "code",
   "execution_count": 22,
   "id": "7faf5b27-2328-40ad-b6fe-4bd648e2dbf7",
   "metadata": {},
   "outputs": [
    {
     "data": {
      "text/plain": [
       "<AxesSubplot:ylabel='Count'>"
      ]
     },
     "execution_count": 22,
     "metadata": {},
     "output_type": "execute_result"
    },
    {
     "data": {
      "image/png": "[encoded data removed]",
      "text/plain": [
       "<Figure size 640x480 with 1 Axes>"
      ]
     },
     "metadata": {},
     "output_type": "display_data"
    }
   ],
   "source": [
    "N = 1000  # real population count\n",
    "n = 50  # fish marked in capture\n",
    "K = 50  # fish caught in recapture\n",
    "\n",
    "pop = [0] * N\n",
    "pop = [1 if i < n else 0 for i in range(len(pop))]\n",
    "\n",
    "lp_estimates = []\n",
    "c_estimates = []\n",
    "sims = 10_000\n",
    "\n",
    "for i in range(0, sims):\n",
    "    k = random.sample(pop, K).count(1)\n",
    "    if k != 0:\n",
    "        N_est = n * K / k\n",
    "        N_est_chapman = ((n + 1) * (K + 1)) / (k + 1) - 1\n",
    "        lp_estimates.append(N_est)\n",
    "        c_estimates.append(N_est_chapman)\n",
    "\n",
    "sns.histplot(lp_estimates)\n",
    "sns.histplot(c_estimates)"
   ]
  },
  {
   "cell_type": "markdown",
   "id": "20e63cff-a9a9-4a03-95cb-6b633d35f860",
   "metadata": {},
   "source": [
    "### Increase markings"
   ]
  },
  {
   "cell_type": "code",
   "execution_count": 23,
   "id": "a2a2ea58-7562-477e-a45b-6d91a34ccecf",
   "metadata": {},
   "outputs": [
    {
     "data": {
      "text/plain": [
       "<AxesSubplot:ylabel='Count'>"
      ]
     },
     "execution_count": 23,
     "metadata": {},
     "output_type": "execute_result"
    },
    {
     "data": {
      "image/png": "[encoded data removed]",
      "text/plain": [
       "<Figure size 640x480 with 1 Axes>"
      ]
     },
     "metadata": {},
     "output_type": "display_data"
    }
   ],
   "source": [
    "N = 1000  # real population count\n",
    "n = 100  # fish marked in capture\n",
    "K = 100  # fish caught in recapture\n",
    "\n",
    "pop = [0] * N\n",
    "pop = [1 if i < n else 0 for i in range(len(pop))]\n",
    "\n",
    "lp_estimates = []\n",
    "c_estimates = []\n",
    "sims = 10_000\n",
    "\n",
    "for i in range(0, sims):\n",
    "    k = random.sample(pop, K).count(1)\n",
    "    if k != 0:\n",
    "        N_est = n * K / k\n",
    "        N_est_chapman = ((n + 1) * (K + 1)) / (k + 1) - 1\n",
    "        lp_estimates.append(N_est)\n",
    "        c_estimates.append(N_est_chapman)\n",
    "\n",
    "sns.histplot(lp_estimates)\n",
    "sns.histplot(c_estimates)"
   ]
  },
  {
   "cell_type": "code",
   "execution_count": 24,
   "id": "4516b60d-54c3-4cec-812e-7c122e96175c",
   "metadata": {},
   "outputs": [
    {
     "data": {
      "text/plain": [
       "<AxesSubplot:ylabel='Count'>"
      ]
     },
     "execution_count": 24,
     "metadata": {},
     "output_type": "execute_result"
    },
    {
     "data": {
      "image/png": "[encoded data removed]",
      "text/plain": [
       "<Figure size 640x480 with 1 Axes>"
      ]
     },
     "metadata": {},
     "output_type": "display_data"
    }
   ],
   "source": [
    "N = 1000  # real population count\n",
    "n = 200  # fish marked in capture\n",
    "K = 200  # fish caught in recapture\n",
    "\n",
    "pop = [0] * N\n",
    "pop = [1 if i < n else 0 for i in range(len(pop))]\n",
    "\n",
    "lp_estimates = []\n",
    "c_estimates = []\n",
    "sims = 10_000\n",
    "\n",
    "for i in range(0, sims):\n",
    "    k = random.sample(pop, K).count(1)\n",
    "    if k != 0:\n",
    "        N_est = n * K / k\n",
    "        N_est_chapman = ((n + 1) * (K + 1)) / (k + 1) - 1\n",
    "        lp_estimates.append(N_est)\n",
    "        c_estimates.append(N_est_chapman)\n",
    "\n",
    "sns.histplot(lp_estimates)\n",
    "sns.histplot(c_estimates)"
   ]
  },
  {
   "cell_type": "markdown",
   "id": "1178da23-6f89-446a-9b7e-dbdf144d8897",
   "metadata": {},
   "source": [
    "### https://twitter.com/octonion/status/1679301870471217154"
   ]
  },
  {
   "cell_type": "code",
   "execution_count": 25,
   "id": "2730d152-038b-46ea-a5f8-18685a13afff",
   "metadata": {},
   "outputs": [
    {
     "name": "stdout",
     "output_type": "stream",
     "text": [
      "2382.7976190476193\n"
     ]
    }
   ],
   "source": [
    "n = 948\n",
    "K = 421\n",
    "k = 167\n",
    "N_est_chapman = ((n + 1) * (K + 1)) / (k + 1) - 1\n",
    "print(N_est_chapman)"
   ]
  },
  {
   "cell_type": "markdown",
   "id": "b4de236e-c850-4203-8f7b-e06bc71fd879",
   "metadata": {},
   "source": [
    "### Confidence Interval\n",
    "https://twitter.com/octonion/status/1679325585259069448"
   ]
  },
  {
   "cell_type": "code",
   "execution_count": 27,
   "id": "b7b9b8f8-4509-4502-abca-1dddfdef1651",
   "metadata": {},
   "outputs": [
    {
     "name": "stdout",
     "output_type": "stream",
     "text": [
      "Our unknown mean:  0.3361907097282961\n"
     ]
    }
   ],
   "source": [
    "mean = random.random()  # Generate a random number between 0 and 1\n",
    "\n",
    "print(\"Our unknown mean: \", mean)\n",
    "\n",
    "# Use the mean to create a normal distribution\n",
    "variance = 1\n",
    "standard_deviation = variance**0.5"
   ]
  },
  {
   "cell_type": "code",
   "execution_count": 31,
   "id": "a3f6237b-2d36-4964-a941-668b5d195f5a",
   "metadata": {},
   "outputs": [
    {
     "name": "stdout",
     "output_type": "stream",
     "text": [
      "Sample Mean: 0.3323728701769028\n"
     ]
    }
   ],
   "source": [
    "n = 1000\n",
    "samples = []\n",
    "\n",
    "for i in range(0, n):\n",
    "    random_number = random.normalvariate(mean, standard_deviation)\n",
    "    samples.append(random_number)\n",
    "\n",
    "sample_mean = sum(samples) / len(samples)\n",
    "print(\"Sample Mean:\", sample_mean)"
   ]
  },
  {
   "cell_type": "code",
   "execution_count": 32,
   "id": "f59e3134-1610-49bb-acf8-a1575ffa0fe6",
   "metadata": {},
   "outputs": [],
   "source": [
    "def calculate_interval(u, n, z, p):\n",
    "    \"\"\"\n",
    "    Calculate the interval bounds for a given mean, sample size, z-score, and probability.\n",
    "\n",
    "    Args:\n",
    "        u (float): Mean value\n",
    "        n (int): Sample size\n",
    "        z (float): Z-score\n",
    "        p (float): Probability\n",
    "\n",
    "    Returns:\n",
    "        tuple: Lower and upper bounds of the interval\n",
    "    \"\"\"\n",
    "    standard_error = z / math.sqrt(n)\n",
    "    lower_bound = u - standard_error\n",
    "    upper_bound = u + standard_error\n",
    "    return lower_bound, upper_bound"
   ]
  },
  {
   "cell_type": "code",
   "execution_count": 33,
   "id": "78f43e9f-cca8-4997-9480-117d7a4cfa36",
   "metadata": {},
   "outputs": [
    {
     "name": "stdout",
     "output_type": "stream",
     "text": [
      "Interval bounds: 0.2703922280376026 0.394353512316203\n"
     ]
    }
   ],
   "source": [
    "# Example usage\n",
    "z = 1.96  # Z-score for a 95% confidence level (p = 0.95)\n",
    "lower, upper = calculate_interval(sample_mean, n, z, 0.95)\n",
    "print(\"Interval bounds:\", lower, upper)"
   ]
  },
  {
   "cell_type": "markdown",
   "id": "acd4ea2d-a83b-4087-a0ce-e459cf50fb0b",
   "metadata": {},
   "source": [
    "### Mark and recapture confidence interval\n",
    "https://twitter.com/octonion/status/1679332771439706112"
   ]
  },
  {
   "cell_type": "code",
   "execution_count": 37,
   "id": "54bde80c-ee89-4e5d-b144-616126fd4c00",
   "metadata": {},
   "outputs": [
    {
     "name": "stdout",
     "output_type": "stream",
     "text": [
      "Lincoln-Petersen estimator =  152.0\n",
      "Chapman estimator =  124.0\n",
      "0.95 -level confidence interval is ( 67 381 )\n",
      "Squeezed estimator bounds = ( 128 128 )\n"
     ]
    }
   ],
   "source": [
    "# Code from: https://github.com/octonion/puzzles/blob/master/twitter/fish/exact_ci.py\n",
    "\n",
    "# n - unknown population size\n",
    "\n",
    "# Desired confidence level\n",
    "p = 95 / 100\n",
    "\n",
    "# Marked in first group\n",
    "m = 24\n",
    "# Caught in second group\n",
    "c = 19\n",
    "# Tagged in second group\n",
    "t = 3\n",
    "\n",
    "print(\"Lincoln-Petersen estimator = \", (m * c / t))\n",
    "print(\"Chapman estimator = \", ((m + 1) * (c + 1) / (t + 1) - 1))\n",
    "\n",
    "lower = None\n",
    "upper = None\n",
    "for n in range(m + c - t, 20000):\n",
    "    n_lower = hypergeom.ppf(1 / 2 - p / 2, n, m, c)\n",
    "    n_upper = hypergeom.ppf(1 / 2 + p / 2, n, m, c)\n",
    "    # print(n_lower,n_upper)\n",
    "    if lower == None and round(n_lower) == t:\n",
    "        lower = n\n",
    "    if upper == None and round(n_upper) == t:\n",
    "        upper = n\n",
    "        break\n",
    "\n",
    "print(p, \"-level confidence interval is (\", lower, upper, \")\")\n",
    "\n",
    "p = 0 / 100\n",
    "\n",
    "lower = None\n",
    "upper = None\n",
    "for n in range(m + c - t, 20000):\n",
    "    n_lower = hypergeom.ppf(1 / 2 - p / 2, n, m, c)\n",
    "    n_upper = hypergeom.ppf(1 / 2 + p / 2, n, m, c)\n",
    "    # print(n_lower,n_upper)\n",
    "    if lower == None and round(n_lower) == t:\n",
    "        lower = n\n",
    "    if upper == None and round(n_upper) == t:\n",
    "        upper = n\n",
    "        break\n",
    "\n",
    "print(\"Squeezed estimator bounds = (\", lower, upper, \")\")"
   ]
  },
  {
   "cell_type": "code",
   "execution_count": null,
   "id": "f4fbe83c-1ad8-4209-b8ba-4a84acec8399",
   "metadata": {},
   "outputs": [],
   "source": []
  }
 ],
 "metadata": {
  "kernelspec": {
   "display_name": "Python 3",
   "language": "python",
   "name": "python3"
  },
  "language_info": {
   "codemirror_mode": {
    "name": "ipython",
    "version": 3
   },
   "file_extension": ".py",
   "mimetype": "text/x-python",
   "name": "python",
   "nbconvert_exporter": "python",
   "pygments_lexer": "ipython3",
   "version": "3.8.17"
  }
 },
 "nbformat": 4,
 "nbformat_minor": 5
}
