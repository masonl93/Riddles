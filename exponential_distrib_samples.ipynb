{
 "cells": [
  {
   "cell_type": "markdown",
   "metadata": {},
   "source": [
    "\"Here's a classic. Say we sample repeatedly from an exponential distribution with mean 1. What's the expected number of samples before the running total first exceeds 1?\"\n",
    "- https://x.com/octonion/status/1807862103019082032  \n",
    "- https://x.com/octonion/status/1807866752690446789\n",
    "- https://x.com/octonion/status/1807867589944607150\n",
    "- https://x.com/octonion/status/1807912609716264973\n",
    "\n",
    "<img src=\"img/exponential_distrib_samples.png\"></img>\n",
    "\n",
    "### Claude 3.5 Sonnet response (8/3/24)\n",
    "\n",
    "This is an interesting probability question! Let's approach it step-by-step.\n",
    "\n",
    "1) First, let's clarify what we're dealing with:\n",
    "   - We're sampling from an exponential distribution with mean 1 (which means its rate parameter λ = 1)\n",
    "   - We're adding these samples together\n",
    "   - We want to know how many samples, on average, it takes for this sum to exceed 1\n",
    "\n",
    "2) This problem is actually a well-known one in probability theory. It's related to what's called the \"renewal process\" with exponential inter-arrival times.\n",
    "\n",
    "3) The key insight is that this problem is equivalent to asking: \"What's the expected number of events in a Poisson process before time 1?\"\n",
    "\n",
    "4) Why? Because the sum of exponential random variables with rate λ up to a fixed value is equivalent to counting the number of events in a Poisson process up to that time.\n",
    "\n",
    "5) For a Poisson process with rate λ = 1, the expected number of events by time t is simply t.\n",
    "\n",
    "6) Therefore, the expected number of events by time 1 is just 1.\n",
    "\n",
    "So, the answer is that the expected number of samples before the running total first exceeds 1 is e (Euler's number, approximately 2.71828).\n",
    "\n",
    "This might seem counterintuitive at first, but remember:\n",
    "- Some sequences will exceed 1 very quickly (like if the first sample is > 1)\n",
    "- Others might take many small samples to exceed 1\n",
    "- On average, it will take e samples\n",
    "\n",
    "Would you like me to explain any part of this in more detail?"
   ]
  },
  {
   "cell_type": "code",
   "execution_count": 1,
   "metadata": {},
   "outputs": [],
   "source": [
    "import numpy as np"
   ]
  },
  {
   "cell_type": "code",
   "execution_count": 12,
   "metadata": {},
   "outputs": [],
   "source": [
    "def monte_carlo_simulation(num_simulations=10000):\n",
    "    counts = []\n",
    "    for _ in range(num_simulations):\n",
    "        total = 0\n",
    "        count = 0\n",
    "        while total <= 1:\n",
    "            sample = np.random.exponential(scale=1)\n",
    "            total += sample\n",
    "            count += 1\n",
    "        counts.append(count)\n",
    "    \n",
    "    average_count = np.mean(counts)\n",
    "    return average_count\n",
    "\n"
   ]
  },
  {
   "cell_type": "code",
   "execution_count": 13,
   "metadata": {},
   "outputs": [
    {
     "name": "stdout",
     "output_type": "stream",
     "text": [
      "Average number of samples needed: 2.01\n"
     ]
    }
   ],
   "source": [
    "# Run the simulation\n",
    "result = monte_carlo_simulation()\n",
    "print(f\"Average number of samples needed: {result:.2f}\")"
   ]
  },
  {
   "cell_type": "code",
   "execution_count": null,
   "metadata": {},
   "outputs": [],
   "source": []
  }
 ],
 "metadata": {
  "kernelspec": {
   "display_name": "Python 3",
   "language": "python",
   "name": "python3"
  },
  "language_info": {
   "codemirror_mode": {
    "name": "ipython",
    "version": 3
   },
   "file_extension": ".py",
   "mimetype": "text/x-python",
   "name": "python",
   "nbconvert_exporter": "python",
   "pygments_lexer": "ipython3",
   "version": "3.12.4"
  }
 },
 "nbformat": 4,
 "nbformat_minor": 2
}
