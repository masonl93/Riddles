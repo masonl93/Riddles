{
 "cells": [
  {
   "cell_type": "markdown",
   "metadata": {},
   "source": [
    "https://twitter.com/alexbilz/status/1731739389745643537  \n",
    "\n",
    "<img src=\"img/biased_coin.png\"></img>"
   ]
  },
  {
   "cell_type": "code",
   "execution_count": 2,
   "metadata": {},
   "outputs": [],
   "source": [
    "import random"
   ]
  },
  {
   "cell_type": "markdown",
   "metadata": {},
   "source": [
    "# Part 1"
   ]
  },
  {
   "cell_type": "code",
   "execution_count": 55,
   "metadata": {},
   "outputs": [],
   "source": [
    "sims = 10000\n",
    "h_odds = 0.51\n",
    "a_broke = 0\n",
    "b_broke = 0\n",
    "\n",
    "cnt = 0"
   ]
  },
  {
   "cell_type": "code",
   "execution_count": 56,
   "metadata": {},
   "outputs": [],
   "source": [
    "for sim in range(sims):\n",
    "    a_money = 10\n",
    "    b_money = 10\n",
    "    first = None\n",
    "\n",
    "    while True:\n",
    "        if a_money > 0:\n",
    "            a_flip = random.random() < h_odds\n",
    "            if a_flip:\n",
    "                a_money += 1\n",
    "            else:\n",
    "                a_money -= 1\n",
    "        \n",
    "        if b_money > 0:\n",
    "            b_flip = random.random() < (1 - h_odds)\n",
    "            if b_flip:\n",
    "                b_money += 1\n",
    "            else:\n",
    "                b_money -= 1\n",
    "\n",
    "        if not first:\n",
    "            if a_money <= 0:\n",
    "                first = \"a\"\n",
    "            if b_money <= 0:\n",
    "                first = \"b\"\n",
    "\n",
    "        # print(a_money, b_money)\n",
    "        if a_money <= 0 and b_money <= 0:\n",
    "            cnt += 1\n",
    "            if first == \"a\":\n",
    "                a_broke += 1\n",
    "            else:\n",
    "                b_broke += 1\n",
    "            break\n",
    "\n",
    "        if a_money > 1000:\n",
    "            # assume A isn't going broke\n",
    "            break"
   ]
  },
  {
   "cell_type": "code",
   "execution_count": 57,
   "metadata": {},
   "outputs": [
    {
     "data": {
      "text/plain": [
       "(3332, 3332)"
      ]
     },
     "execution_count": 57,
     "metadata": {},
     "output_type": "execute_result"
    }
   ],
   "source": [
    "a_broke, b_broke"
   ]
  },
  {
   "cell_type": "markdown",
   "metadata": {},
   "source": [
    "# Part 2"
   ]
  },
  {
   "cell_type": "code",
   "execution_count": 67,
   "metadata": {},
   "outputs": [],
   "source": [
    "sims = 10000\n",
    "h_odds = 0.51\n",
    "a_broke = 0\n",
    "b_broke = 0\n",
    "\n",
    "cnt = 0"
   ]
  },
  {
   "cell_type": "code",
   "execution_count": 68,
   "metadata": {},
   "outputs": [],
   "source": [
    "for sim in range(sims):\n",
    "    a_money = 10\n",
    "    b_money = 10\n",
    "    first = None\n",
    "\n",
    "    while True:\n",
    "        flip = random.random() < h_odds\n",
    "        if a_money > 0:\n",
    "            if flip:\n",
    "                a_money += 1\n",
    "            else:\n",
    "                a_money -= 1\n",
    "        \n",
    "        if b_money > 0:\n",
    "            if not flip:\n",
    "                b_money += 1\n",
    "            else:\n",
    "                b_money -= 1\n",
    "\n",
    "        if not first:\n",
    "            if a_money <= 0:\n",
    "                first = \"a\"\n",
    "            if b_money <= 0:\n",
    "                first = \"b\"\n",
    "\n",
    "        # print(a_money, b_money)\n",
    "        if a_money <= 0 and b_money <= 0:\n",
    "            cnt += 1\n",
    "            if first == \"a\":\n",
    "                a_broke += 1\n",
    "            else:\n",
    "                b_broke += 1\n",
    "            break\n",
    "\n",
    "        if a_money > 1000:\n",
    "            # assume A isn't going broke\n",
    "            break"
   ]
  },
  {
   "cell_type": "code",
   "execution_count": 69,
   "metadata": {},
   "outputs": [
    {
     "data": {
      "text/plain": [
       "(4017, 2727)"
      ]
     },
     "execution_count": 69,
     "metadata": {},
     "output_type": "execute_result"
    }
   ],
   "source": [
    "a_broke, b_broke"
   ]
  },
  {
   "cell_type": "code",
   "execution_count": null,
   "metadata": {},
   "outputs": [],
   "source": []
  }
 ],
 "metadata": {
  "kernelspec": {
   "display_name": "Python 3",
   "language": "python",
   "name": "python3"
  },
  "language_info": {
   "codemirror_mode": {
    "name": "ipython",
    "version": 3
   },
   "file_extension": ".py",
   "mimetype": "text/x-python",
   "name": "python",
   "nbconvert_exporter": "python",
   "pygments_lexer": "ipython3",
   "version": "3.12.3"
  }
 },
 "nbformat": 4,
 "nbformat_minor": 2
}
