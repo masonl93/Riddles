{
 "cells": [
  {
   "cell_type": "markdown",
   "id": "cdd8f975-d22f-4a34-bef2-617fc97eaa07",
   "metadata": {},
   "source": [
    "https://twitter.com/10kdiver/status/1459494548443332611\n",
    "https://www.reddit.com/r/options/comments/14hzdal/solving_a_compounding_riddle_with_blackscholes/\n",
    "\n",
    "<img src=\"img/compounding.png\"></img>"
   ]
  },
  {
   "cell_type": "code",
   "execution_count": 1,
   "id": "3d933c5c-e0a0-49dd-9402-8305c4e291e6",
   "metadata": {},
   "outputs": [],
   "source": [
    "import random"
   ]
  },
  {
   "cell_type": "code",
   "execution_count": 15,
   "id": "b38ed3f8-3b71-4bcc-a8db-fc4d6b75157a",
   "metadata": {},
   "outputs": [],
   "source": [
    "sims = 10_000\n",
    "cnt = 0\n",
    "\n",
    "for sim in range(0, sims):\n",
    "    a = 100\n",
    "    b = 100\n",
    "    for i in range(0, 10):\n",
    "        a = a * 1.1\n",
    "        r = random.randint(0, 1)\n",
    "        if r:\n",
    "            b = b * 1.3\n",
    "        else:\n",
    "            b = b * 0.9\n",
    "    if b > a:\n",
    "        cnt += 1"
   ]
  },
  {
   "cell_type": "code",
   "execution_count": 16,
   "id": "c51d71e6-09ba-40c9-b77b-65b199996551",
   "metadata": {},
   "outputs": [
    {
     "data": {
      "text/plain": [
       "0.3784"
      ]
     },
     "execution_count": 16,
     "metadata": {},
     "output_type": "execute_result"
    }
   ],
   "source": [
    "cnt/sims"
   ]
  },
  {
   "cell_type": "code",
   "execution_count": 17,
   "id": "3fec207f-1869-432d-a524-c2e9c24c241f",
   "metadata": {},
   "outputs": [
    {
     "name": "stdout",
     "output_type": "stream",
     "text": [
      "0.6302\n"
     ]
    }
   ],
   "source": [
    "# updating so that B's average is greater than A's \n",
    "# (40-10)/2\n",
    "sims = 10_000\n",
    "cnt = 0\n",
    "\n",
    "for sim in range(0, sims):\n",
    "    a = 100\n",
    "    b = 100\n",
    "    for i in range(0, 10):\n",
    "        a = a * 1.1\n",
    "        r = random.randint(0, 1)\n",
    "        if r:\n",
    "            b = b * 1.4\n",
    "        else:\n",
    "            b = b * 0.9\n",
    "    if b > a:\n",
    "        cnt += 1\n",
    "print(cnt/sims)"
   ]
  },
  {
   "cell_type": "code",
   "execution_count": 37,
   "id": "cddabd94-020f-40ef-8512-b5895532f745",
   "metadata": {},
   "outputs": [
    {
     "name": "stdout",
     "output_type": "stream",
     "text": [
      "0.6269\n"
     ]
    }
   ],
   "source": [
    "# What is minimum upside to beat A >50%\n",
    "sims = 10_000\n",
    "cnt = 0\n",
    "\n",
    "for sim in range(0, sims):\n",
    "    a = 100\n",
    "    b = 100\n",
    "    for i in range(0, 10):\n",
    "        a = a * 1.1\n",
    "        r = random.randint(0, 1)\n",
    "        if r:\n",
    "            b = b * 1.35\n",
    "        else:\n",
    "            b = b * 0.9\n",
    "    if b > a:\n",
    "        cnt += 1\n",
    "print(cnt/sims)"
   ]
  },
  {
   "cell_type": "code",
   "execution_count": null,
   "id": "013bcb2e-5d70-4fbf-bb5a-384984f474c7",
   "metadata": {},
   "outputs": [],
   "source": []
  }
 ],
 "metadata": {
  "kernelspec": {
   "display_name": "Python 3",
   "language": "python",
   "name": "python3"
  },
  "language_info": {
   "codemirror_mode": {
    "name": "ipython",
    "version": 3
   },
   "file_extension": ".py",
   "mimetype": "text/x-python",
   "name": "python",
   "nbconvert_exporter": "python",
   "pygments_lexer": "ipython3",
   "version": "3.8.17"
  }
 },
 "nbformat": 4,
 "nbformat_minor": 5
}
