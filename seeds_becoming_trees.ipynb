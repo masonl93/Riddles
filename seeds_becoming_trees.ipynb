{
 "cells": [
  {
   "cell_type": "markdown",
   "id": "537b14ad-db5d-4ba8-9ab4-c1c8606b733d",
   "metadata": {},
   "source": [
    "https://twitter.com/octonion/status/1697981935077724579  \n",
    "https://twitter.com/nntaleb/status/1698049889597379009  \n",
    "\n",
    "<img src=\"img/seeds_becoming_trees.png\"></img>"
   ]
  },
  {
   "cell_type": "code",
   "execution_count": 2,
   "id": "078eedf9-9bf7-43a9-b061-195f20d982db",
   "metadata": {
    "tags": []
   },
   "outputs": [],
   "source": [
    "import random\n",
    "\n",
    "import numpy as np\n",
    "from numpy import linalg\n",
    "from scipy.stats import binom"
   ]
  },
  {
   "cell_type": "markdown",
   "id": "2348538f-faf6-4261-9a16-4506122208f7",
   "metadata": {},
   "source": [
    "## Monte Carlo"
   ]
  },
  {
   "cell_type": "code",
   "execution_count": 8,
   "id": "a48b9ede-cfb8-49b5-9185-11c35d51f9e2",
   "metadata": {
    "tags": []
   },
   "outputs": [
    {
     "name": "stdout",
     "output_type": "stream",
     "text": [
      "4.02716\n"
     ]
    }
   ],
   "source": [
    "sims = 100_000\n",
    "days = []\n",
    "\n",
    "for sim in range(0, sims):\n",
    "    seeds = 6\n",
    "    cnt = 0\n",
    "    while True:\n",
    "        cnt += 1\n",
    "        for i in range(0, seeds):\n",
    "            r = random.randint(0, 1)\n",
    "            if r:\n",
    "                seeds -= 1\n",
    "        if seeds <= 0:\n",
    "            days.append(cnt)\n",
    "            break\n",
    "\n",
    "print(sum(days) / len(days))"
   ]
  },
  {
   "cell_type": "markdown",
   "id": "4a7715da-70b2-4225-bd36-db17fa8ea598",
   "metadata": {},
   "source": [
    "## Markov Chain\n",
    "https://twitter.com/nntaleb/status/1698096267987931209  \n",
    "https://twitter.com/nntaleb/status/1698433583008891117  "
   ]
  },
  {
   "cell_type": "code",
   "execution_count": 50,
   "id": "f1efb5ac-e02d-4f5d-82ab-7a2b90bad46a",
   "metadata": {
    "tags": []
   },
   "outputs": [
    {
     "name": "stdout",
     "output_type": "stream",
     "text": [
      "[[0.015625 0.09375  0.234375 0.3125   0.234375 0.09375  0.015625]\n",
      " [0.       0.03125  0.15625  0.3125   0.3125   0.15625  0.03125 ]\n",
      " [0.       0.       0.0625   0.25     0.375    0.25     0.0625  ]\n",
      " [0.       0.       0.       0.125    0.375    0.375    0.125   ]\n",
      " [0.       0.       0.       0.       0.25     0.5      0.25    ]\n",
      " [0.       0.       0.       0.       0.       0.5      0.5     ]\n",
      " [1.       0.       0.       0.       0.       0.       0.      ]]\n"
     ]
    }
   ],
   "source": [
    "def gen_binom_trans_mtx(num, prob):\n",
    "    m = []\n",
    "    for i in range(num, -1, -1):\n",
    "        n = []\n",
    "        for j in range(0, i + 1):\n",
    "            n.append(binom(i, 0.5).pmf(j))\n",
    "        if n[0] == 1:\n",
    "            n = n + [0] * num\n",
    "        elif len(n) < num + 1:\n",
    "            zeros_to_prepend = num + 1 - len(n)\n",
    "            n = [0] * zeros_to_prepend + n\n",
    "        m.append(n)\n",
    "    m = np.array(m)\n",
    "    return m\n",
    "\n",
    "\n",
    "trans_mtx = gen_binom_trans_mtx(6, 0.5)\n",
    "print(trans_mtx)"
   ]
  },
  {
   "cell_type": "code",
   "execution_count": 51,
   "id": "abf82c41-f1e3-4692-aae9-f53f902e63a0",
   "metadata": {
    "tags": []
   },
   "outputs": [
    {
     "name": "stdout",
     "output_type": "stream",
     "text": [
      "4.034818228364861\n"
     ]
    }
   ],
   "source": [
    "steady_state_probs = linalg.matrix_power(trans_mtx, 10000)\n",
    "# print(steady_state_probs)\n",
    "print(1 / steady_state_probs[0][-1] - 1)"
   ]
  },
  {
   "cell_type": "markdown",
   "id": "420dfceb-69c8-45fa-b434-92a7d6feb4f7",
   "metadata": {},
   "source": [
    "https://twitter.com/octonion/status/1698013331162808517  \n",
    "\n",
    "<img src=\"img/seeds_becoming_trees_2.png\"></img>"
   ]
  },
  {
   "cell_type": "markdown",
   "id": "9b7819fa-c401-4138-b0ab-b21e63359a45",
   "metadata": {},
   "source": [
    "## Monte Carlo"
   ]
  },
  {
   "cell_type": "code",
   "execution_count": 52,
   "id": "785d525a-2efe-44a2-ba3a-ce0fe4e593c0",
   "metadata": {
    "tags": []
   },
   "outputs": [
    {
     "name": "stdout",
     "output_type": "stream",
     "text": [
      "8.0027\n"
     ]
    }
   ],
   "source": [
    "sims = 10_000\n",
    "days = []\n",
    "\n",
    "for sim in range(0, sims):\n",
    "    seeds = 100\n",
    "    cnt = 0\n",
    "    while True:\n",
    "        cnt += 1\n",
    "        for i in range(0, seeds):\n",
    "            r = random.randint(0, 1)\n",
    "            if r:\n",
    "                seeds -= 1\n",
    "        if seeds <= 0:\n",
    "            days.append(cnt)\n",
    "            break\n",
    "\n",
    "print(sum(days) / len(days))"
   ]
  },
  {
   "cell_type": "markdown",
   "id": "883f6c0f-fcfd-4753-92d5-79f37bbc30ad",
   "metadata": {},
   "source": [
    "## Markov Chain"
   ]
  },
  {
   "cell_type": "code",
   "execution_count": 54,
   "id": "5fa56896-6b10-4f40-b1fd-e96c91044806",
   "metadata": {
    "tags": []
   },
   "outputs": [
    {
     "name": "stdout",
     "output_type": "stream",
     "text": [
      "7.983801535156488\n"
     ]
    }
   ],
   "source": [
    "trans_mtx = gen_binom_trans_mtx(100, 0.5)\n",
    "steady_state_probs = linalg.matrix_power(trans_mtx, 10000)\n",
    "print(1 / steady_state_probs[0][-1] - 1)"
   ]
  },
  {
   "cell_type": "code",
   "execution_count": null,
   "id": "bc57fd95-74a5-4f9b-8577-304ca32d4a62",
   "metadata": {},
   "outputs": [],
   "source": []
  }
 ],
 "metadata": {
  "kernelspec": {
   "display_name": "Python 3",
   "language": "python",
   "name": "python3"
  },
  "language_info": {
   "codemirror_mode": {
    "name": "ipython",
    "version": 3
   },
   "file_extension": ".py",
   "mimetype": "text/x-python",
   "name": "python",
   "nbconvert_exporter": "python",
   "pygments_lexer": "ipython3",
   "version": "3.8.17"
  }
 },
 "nbformat": 4,
 "nbformat_minor": 5
}
