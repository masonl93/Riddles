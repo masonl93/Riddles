{
 "cells": [
  {
   "cell_type": "markdown",
   "id": "a18eb0d9-79f5-4317-8294-25f707ca677f",
   "metadata": {},
   "source": [
    "https://twitter.com/octonion/status/1718085939128389684  \n",
    "https://twitter.com/octonion/status/1718109323287580876  \n",
    "\n",
    "<img src=\"img/aces_in_a_deck.png\"></img>"
   ]
  },
  {
   "cell_type": "code",
   "execution_count": 1,
   "id": "7f858956-dffa-4f72-88e9-8a864edbdce8",
   "metadata": {
    "tags": []
   },
   "outputs": [],
   "source": [
    "import random"
   ]
  },
  {
   "cell_type": "code",
   "execution_count": 5,
   "id": "605ae386-0120-4201-b928-6e3568dfc2dc",
   "metadata": {
    "tags": []
   },
   "outputs": [],
   "source": [
    "cards = list(range(0,52))\n",
    "# ace of spades = 0\n",
    "# ace hearts, diamonds, clubs = 1,2,3\n",
    "# 2 of clubs = 4"
   ]
  },
  {
   "cell_type": "code",
   "execution_count": 6,
   "id": "85d5916e-7715-440e-ac39-684cbd5a7de7",
   "metadata": {
    "tags": []
   },
   "outputs": [],
   "source": [
    "two_club_cnt = 0\n",
    "ace_spade_cnt = 0\n",
    "sims = 10_000\n",
    "\n",
    "for i in range(0, sims):\n",
    "\n",
    "    random.shuffle(cards)\n",
    "    next_check = False\n",
    "\n",
    "\n",
    "    for card in cards:\n",
    "        if next_check and card in [0, 4]:\n",
    "            if card == 0:\n",
    "                ace_spade_cnt += 1\n",
    "            elif card == 4:\n",
    "                two_club_cnt += 1\n",
    "            break\n",
    "        if card < 4:\n",
    "            next_check = True\n"
   ]
  },
  {
   "cell_type": "code",
   "execution_count": 7,
   "id": "065f51d2-43c3-44b1-b2cb-79e59790e217",
   "metadata": {
    "tags": []
   },
   "outputs": [
    {
     "data": {
      "text/plain": [
       "(0.496, 0.455)"
      ]
     },
     "execution_count": 7,
     "metadata": {},
     "output_type": "execute_result"
    }
   ],
   "source": [
    "two_club_cnt/sims, ace_spade_cnt/sims"
   ]
  },
  {
   "cell_type": "code",
   "execution_count": null,
   "id": "adbcdfa5-3051-4ffe-a91f-a97be97f3057",
   "metadata": {},
   "outputs": [],
   "source": []
  }
 ],
 "metadata": {
  "kernelspec": {
   "display_name": "Python 3",
   "language": "python",
   "name": "python3"
  },
  "language_info": {
   "codemirror_mode": {
    "name": "ipython",
    "version": 3
   },
   "file_extension": ".py",
   "mimetype": "text/x-python",
   "name": "python",
   "nbconvert_exporter": "python",
   "pygments_lexer": "ipython3",
   "version": "3.12.3"
  }
 },
 "nbformat": 4,
 "nbformat_minor": 5
}
