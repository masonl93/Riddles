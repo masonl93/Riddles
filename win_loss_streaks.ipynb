{
 "cells": [
  {
   "cell_type": "markdown",
   "metadata": {},
   "source": [
    "# 2024 White Sox 21 game Loss Streak\n",
    "<img src=\"img/win_loss_streaks.png\"></img>\n",
    "<img src=\"img/win_loss_streaks2.png\"></img>\n",
    "- https://x.com/octonion/status/1820709177511096522\n",
    "- https://x.com/octonion/status/1820857993996693624\n",
    "- https://x.com/octonion/status/1820862423219212581"
   ]
  },
  {
   "cell_type": "code",
   "execution_count": 15,
   "metadata": {},
   "outputs": [],
   "source": [
    "import math\n",
    "import random\n",
    "import numpy as np\n",
    "import matplotlib.pyplot as plt"
   ]
  },
  {
   "cell_type": "code",
   "execution_count": 5,
   "metadata": {},
   "outputs": [],
   "source": [
    "def simulate_season(win_percentage, num_games=162):\n",
    "    season = []\n",
    "    current_streak = 0\n",
    "    longest_losing_streak = 0\n",
    "    \n",
    "    for _ in range(num_games):\n",
    "        if random.random() < win_percentage:\n",
    "            season.append(1)  # Win\n",
    "            current_streak = 0\n",
    "        else:\n",
    "            season.append(0)  # Loss\n",
    "            current_streak += 1\n",
    "            longest_losing_streak = max(longest_losing_streak, current_streak)\n",
    "    \n",
    "    return longest_losing_streak\n",
    "\n",
    "def monte_carlo_simulation(win_percentage, num_seasons=10000, num_games=162):\n",
    "    losing_streaks = []\n",
    "    \n",
    "    for _ in range(num_seasons):\n",
    "        losing_streaks.append(simulate_season(win_percentage, num_games))\n",
    "    \n",
    "    return losing_streaks\n"
   ]
  },
  {
   "cell_type": "markdown",
   "metadata": {},
   "source": [
    "## Simulation"
   ]
  },
  {
   "cell_type": "code",
   "execution_count": 6,
   "metadata": {},
   "outputs": [
    {
     "name": "stdout",
     "output_type": "stream",
     "text": [
      "\n",
      "Simulation Results for 0.250 win percentage:\n",
      "Average longest losing streak: 14.45 games\n",
      "Median longest losing streak: 14.00 games\n",
      "Maximum longest losing streak: 52 games\n",
      "Percentage of seasons with 21+ game losing streak: 8.69%\n"
     ]
    },
    {
     "data": {
      "image/png": "[encoded data removed]",
      "text/plain": [
       "<Figure size 1000x600 with 1 Axes>"
      ]
     },
     "metadata": {},
     "output_type": "display_data"
    }
   ],
   "source": [
    "# Input win percentage\n",
    "win_percentage = .25\n",
    "\n",
    "# Run simulation\n",
    "results = monte_carlo_simulation(win_percentage)\n",
    "\n",
    "# Calculate statistics\n",
    "avg_longest_streak = np.mean(results)\n",
    "median_longest_streak = np.median(results)\n",
    "max_longest_streak = np.max(results)\n",
    "\n",
    "seasons_with_long_streak = sum(streak >= 21 for streak in results)\n",
    "percentage_long_streak = (seasons_with_long_streak / len(results)) * 100\n",
    "\n",
    "print(f\"\\nSimulation Results for {win_percentage:.3f} win percentage:\")\n",
    "print(f\"Average longest losing streak: {avg_longest_streak:.2f} games\")\n",
    "print(f\"Median longest losing streak: {median_longest_streak:.2f} games\")\n",
    "print(f\"Maximum longest losing streak: {max_longest_streak} games\")\n",
    "print(f\"Percentage of seasons with 21+ game losing streak: {percentage_long_streak:.2f}%\")\n",
    "\n",
    "\n",
    "plt.figure(figsize=(10, 6))\n",
    "plt.hist(results, bins=range(min(results), max(results) + 2, 1), edgecolor='black')\n",
    "plt.title(f\"Distribution of Longest Losing Streaks ({win_percentage:.3f} win percentage)\")\n",
    "plt.xlabel(\"Longest Losing Streak\")\n",
    "plt.ylabel(\"Frequency\")\n",
    "plt.show()"
   ]
  },
  {
   "cell_type": "markdown",
   "metadata": {},
   "source": [
    "## Theoretical"
   ]
  },
  {
   "cell_type": "code",
   "execution_count": 7,
   "metadata": {},
   "outputs": [
    {
     "name": "stdout",
     "output_type": "stream",
     "text": [
      "Probability of a 21+ game losing streak in a 162-game season:\n",
      "Uncorrected expectation: 0.337734\n",
      "Corrected expectation: 0.084434\n",
      "Expected occurrence: Once every 11.8 seasons\n"
     ]
    }
   ],
   "source": [
    "# Parameters\n",
    "win_probability = 0.25\n",
    "loss_probability = 1 - win_probability\n",
    "streak_length = 21\n",
    "season_length = 162\n",
    "\n",
    "# Calculation\n",
    "probability_streak = loss_probability ** streak_length\n",
    "possible_starting_points = season_length - streak_length + 1\n",
    "uncorrected_expectation = probability_streak * possible_starting_points\n",
    "\n",
    "# Apply correction factor\n",
    "corrected_expectation = uncorrected_expectation / 4\n",
    "\n",
    "print(f\"Probability of a {streak_length}+ game losing streak in a {season_length}-game season:\")\n",
    "print(f\"Uncorrected expectation: {uncorrected_expectation:.6f}\")\n",
    "print(f\"Corrected expectation: {corrected_expectation:.6f}\")\n",
    "print(f\"Expected occurrence: Once every {1/corrected_expectation:.1f} seasons\")"
   ]
  },
  {
   "cell_type": "markdown",
   "metadata": {},
   "source": [
    "## Markov Chain\n"
   ]
  },
  {
   "cell_type": "code",
   "execution_count": 20,
   "metadata": {},
   "outputs": [
    {
     "name": "stdout",
     "output_type": "stream",
     "text": [
      "Probability of a 21+ game losing streak in a 162-game season:\n",
      "(for a team with 0.250 win probability)\n",
      "Estimated probability: 0.08356010\n",
      "Expected occurrence: Once every 12.0 seasons\n"
     ]
    }
   ],
   "source": [
    "def create_transition_matrix(loss_probability, num_states):\n",
    "    T = np.zeros((num_states, num_states))\n",
    "    \n",
    "    # Fill the transition matrix\n",
    "    for i in range(num_states - 1):\n",
    "        T[i, 0] = 1 - loss_probability  # Probability of winning (reset to 0 losses)\n",
    "        T[i, i + 1] = loss_probability  # Probability of losing (move to next state)\n",
    "    \n",
    "    # Make the last state (21 losses) absorbing\n",
    "    T[-1, -1] = 1\n",
    "    \n",
    "    return T\n",
    "\n",
    "# Parameters\n",
    "win_probability = 0.25\n",
    "loss_probability = 1 - win_probability\n",
    "num_states = 22  # 0 to 21 losses\n",
    "season_length = 162\n",
    "\n",
    "# Create transition matrix\n",
    "T = create_transition_matrix(loss_probability, num_states)\n",
    "\n",
    "# Raise the matrix to the power of number of games\n",
    "T_final = np.linalg.matrix_power(T, season_length)\n",
    "\n",
    "# Probability of reaching 21-loss streak (last state) starting from 0 losses\n",
    "probability = T_final[0, -1]\n",
    "\n",
    "print(f\"Probability of a 21+ game losing streak in a {season_length}-game season:\")\n",
    "print(f\"(for a team with {win_probability:.3f} win probability)\")\n",
    "print(f\"Estimated probability: {probability:.8f}\")\n",
    "print(f\"Expected occurrence: Once every {1/probability:.1f} seasons\")"
   ]
  },
  {
   "cell_type": "markdown",
   "metadata": {},
   "source": [
    "# 2017 Cleveland Indians 22 game Winning Streak\n",
    "<img src=\"img/win_loss_streaks3.png\"></img>\n",
    "- https://x.com/octonion/status/908817073459138561\n",
    "- https://x.com/StatsbyLopez/status/908822855038709761"
   ]
  },
  {
   "cell_type": "code",
   "execution_count": 8,
   "metadata": {},
   "outputs": [],
   "source": [
    "def simulate_season_winning_streak(win_percentage, num_games=162):\n",
    "    current_streak = 0\n",
    "    longest_winning_streak = 0\n",
    "    \n",
    "    for _ in range(num_games):\n",
    "        if random.random() < win_percentage:\n",
    "            current_streak += 1\n",
    "            longest_winning_streak = max(longest_winning_streak, current_streak)\n",
    "        else:\n",
    "            current_streak = 0\n",
    "    \n",
    "    return longest_winning_streak\n",
    "\n",
    "def monte_carlo_winning_streaks(win_percentage, num_seasons=10000, num_games=162):\n",
    "    winning_streaks = []\n",
    "    \n",
    "    for _ in range(num_seasons):\n",
    "        winning_streaks.append(simulate_season_winning_streak(win_percentage, num_games))\n",
    "    \n",
    "    return winning_streaks\n"
   ]
  },
  {
   "cell_type": "markdown",
   "metadata": {},
   "source": [
    "## Simulation\n"
   ]
  },
  {
   "cell_type": "code",
   "execution_count": 14,
   "metadata": {},
   "outputs": [
    {
     "name": "stdout",
     "output_type": "stream",
     "text": [
      "\n",
      "Simulation Results for 0.552 win percentage:\n",
      "Probability of a 22+ game winning streak: 0.0001\n",
      "Expected occurrence: Once every 8333.3 seasons\n"
     ]
    },
    {
     "data": {
      "image/png": "[encoded data removed]",
      "text/plain": [
       "<Figure size 1000x600 with 1 Axes>"
      ]
     },
     "metadata": {},
     "output_type": "display_data"
    }
   ],
   "source": [
    "# Input parameters\n",
    "win_percentage = 0.552\n",
    "target_streak = 22\n",
    "num_seasons = 100000\n",
    "\n",
    "# Run simulation\n",
    "results = monte_carlo_winning_streaks(win_percentage, num_seasons)\n",
    "\n",
    "# Calculate probability\n",
    "seasons_with_target_streak = sum(streak >= target_streak for streak in results)\n",
    "probability = seasons_with_target_streak / num_seasons\n",
    "\n",
    "print(f\"\\nSimulation Results for {win_percentage:.3f} win percentage:\")\n",
    "print(f\"Probability of a {target_streak}+ game winning streak: {probability:.4f}\")\n",
    "print(f\"Expected occurrence: Once every {1/probability:.1f} seasons\")\n",
    "\n",
    "plt.figure(figsize=(10, 6))\n",
    "plt.hist(results, bins=range(min(results), max(results) + 2, 1), edgecolor='black')\n",
    "plt.title(f\"Distribution of Longest Winning Streaks ({win_percentage:.3f} win percentage)\")\n",
    "plt.xlabel(\"Longest Winning Streak\")\n",
    "plt.ylabel(\"Frequency\")\n",
    "plt.axvline(x=target_streak, color='r', linestyle='--', label=f'{target_streak}-game streak')\n",
    "plt.legend()\n",
    "plt.show()"
   ]
  },
  {
   "cell_type": "markdown",
   "metadata": {},
   "source": [
    "## Theoretical\n"
   ]
  },
  {
   "cell_type": "code",
   "execution_count": 16,
   "metadata": {},
   "outputs": [
    {
     "name": "stdout",
     "output_type": "stream",
     "text": [
      "Probability of a 22+ game winning streak in a 162-game season:\n",
      "Uncorrected expectation: 0.00029640\n",
      "Corrected expectation: 0.00013279\n",
      "Expected occurrence: Once every 7530.8 seasons\n"
     ]
    }
   ],
   "source": [
    "# Parameters\n",
    "win_probability = 0.552\n",
    "streak_length = 22\n",
    "season_length = 162\n",
    "\n",
    "# Calculation\n",
    "probability_streak = win_probability ** streak_length\n",
    "possible_starting_points = season_length - streak_length + 1\n",
    "uncorrected_expectation = probability_streak * possible_starting_points\n",
    "\n",
    "# Apply correction factor\n",
    "corrected_expectation = uncorrected_expectation / (1 / (1 - win_probability))\n",
    "\n",
    "print(f\"Probability of a {streak_length}+ game winning streak in a {season_length}-game season:\")\n",
    "print(f\"Uncorrected expectation: {uncorrected_expectation:.8f}\")\n",
    "print(f\"Corrected expectation: {corrected_expectation:.8f}\")\n",
    "print(f\"Expected occurrence: Once every {1/corrected_expectation:.1f} seasons\")"
   ]
  },
  {
   "cell_type": "markdown",
   "metadata": {},
   "source": [
    "## Markov Chain"
   ]
  },
  {
   "cell_type": "code",
   "execution_count": 18,
   "metadata": {},
   "outputs": [
    {
     "name": "stdout",
     "output_type": "stream",
     "text": [
      "\n",
      "Chance of winning all bets: 0.00000769\n",
      "Percentage chance of winning all bets: 0.000769%\n",
      "Odds of this occurring: 1 in 129985.82\n"
     ]
    }
   ],
   "source": [
    "def american_to_probability(odds):\n",
    "    if odds > 0:\n",
    "        return 100 / (odds + 100)\n",
    "    else:\n",
    "        return abs(odds) / (abs(odds) + 100)\n",
    "\n",
    "odds_list = [147, -140, -163, -220, -107, 116, 132, -300, -170, -165, -200, -160, -157, -140, -170, -130, -130, -230, -185, -135, -110, -170]\n",
    "\n",
    "# Convert odds to probabilities\n",
    "probabilities = [american_to_probability(odd) for odd in odds_list]\n",
    "\n",
    "# Calculate overall probability\n",
    "overall_probability = math.prod(probabilities)\n",
    "\n",
    "# Convert to percentage\n",
    "percentage_chance = overall_probability * 100\n",
    "\n",
    "\n",
    "print(f\"\\nChance of winning all bets: {overall_probability:.8f}\")\n",
    "print(f\"Percentage chance of winning all bets: {percentage_chance:.6f}%\")\n",
    "\n",
    "# Calculate the odds of this occurring\n",
    "if percentage_chance < 50:\n",
    "    odds_of_occurring = (100 / percentage_chance) - 1\n",
    "    print(f\"Odds of this occurring: 1 in {odds_of_occurring:.2f}\")\n",
    "else:\n",
    "    odds_of_occurring = 100 / (100 - percentage_chance) - 1\n",
    "    print(f\"Odds of this occurring: {odds_of_occurring:.2f} to 1\")"
   ]
  },
  {
   "cell_type": "code",
   "execution_count": 21,
   "metadata": {},
   "outputs": [
    {
     "name": "stdout",
     "output_type": "stream",
     "text": [
      "Probability of a 22+ game winning streak in a 162-game season:\n",
      "(for a team with 0.552 win probability)\n",
      "Estimated probability: 0.00013394\n",
      "Expected occurrence: Once every 7466.0 seasons\n"
     ]
    }
   ],
   "source": [
    "def create_transition_matrix_win(win_probability, num_states):\n",
    "    T = np.zeros((num_states, num_states))\n",
    "    \n",
    "    # Fill the transition matrix\n",
    "    for i in range(num_states - 1):\n",
    "        T[i, 0] = 1 - win_probability  # Probability of losing (reset to 0 wins)\n",
    "        T[i, i + 1] = win_probability  # Probability of winning (move to next state)\n",
    "    \n",
    "    # Make the last state (22 wins) absorbing\n",
    "    T[-1, -1] = 1\n",
    "    \n",
    "    return T\n",
    "\n",
    "# Parameters\n",
    "win_probability = 0.552\n",
    "num_states = 23  # 0 to 22 wins\n",
    "num_games = 162\n",
    "\n",
    "# Create transition matrix\n",
    "T = create_transition_matrix_win(win_probability, num_states)\n",
    "\n",
    "# Raise the matrix to the power of number of games\n",
    "T_final = np.linalg.matrix_power(T, num_games)\n",
    "\n",
    "# Probability of reaching 22-win streak (last state) starting from 0 wins\n",
    "probability = T_final[0, -1]\n",
    "\n",
    "print(f\"Probability of a 22+ game winning streak in a 162-game season:\")\n",
    "print(f\"(for a team with {win_probability:.3f} win probability)\")\n",
    "print(f\"Estimated probability: {probability:.8f}\")\n",
    "print(f\"Expected occurrence: Once every {1/probability:.1f} seasons\")"
   ]
  },
  {
   "cell_type": "code",
   "execution_count": null,
   "metadata": {},
   "outputs": [],
   "source": []
  }
 ],
 "metadata": {
  "kernelspec": {
   "display_name": ".venv",
   "language": "python",
   "name": "python3"
  },
  "language_info": {
   "codemirror_mode": {
    "name": "ipython",
    "version": 3
   },
   "file_extension": ".py",
   "mimetype": "text/x-python",
   "name": "python",
   "nbconvert_exporter": "python",
   "pygments_lexer": "ipython3",
   "version": "3.12.5"
  }
 },
 "nbformat": 4,
 "nbformat_minor": 2
}
